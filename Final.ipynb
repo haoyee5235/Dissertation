{
 "cells": [
  {
   "cell_type": "code",
   "execution_count": 36,
   "metadata": {},
   "outputs": [],
   "source": [
    "import yfinance as yf \n",
    "import pandas as pd\n",
    "import numpy as np\n",
    "import seaborn as sns\n",
    "from sklearn.svm import SVC\n",
    "from sklearn.model_selection import GridSearchCV,TimeSeriesSplit\n",
    "from sklearn.metrics import accuracy_score,f1_score,make_scorer\n",
    "from sklearn.svm import SVC\n",
    "from sklearn.neural_network import MLPClassifier\n",
    "from sklearn.tree import DecisionTreeClassifier\n",
    "from sklearn.ensemble import VotingClassifier,BaggingClassifier,AdaBoostClassifier,StackingClassifier"
   ]
  },
  {
   "cell_type": "markdown",
   "metadata": {},
   "source": [
    "# Objectives"
   ]
  },
  {
   "cell_type": "markdown",
   "metadata": {},
   "source": [
    "The main objective for this project is to study the impact on applying Ensemble method in predicting the price movement in stock market. Over this two decades, many researchers have shifted their attention into using Machine Learning algorithms to predict the stock market. This became more common as the advancement of Deep Learning technique such RNN has proven a lot of success in predicting the stock market. However, Ensemble method has also gained its reputation in these recent years due its success in improving the model's accuracy in various sectors such as health, agriculture, energy and finance. Besides that, it has always been adopted by Machine Learning research team at Kaggle competitions where they often achieve impressive results. For example, the top two teams in Netflix competition also utilise Ensemble method to improve their model. Hence, in this project, we will be looking at how Ensemble methods will improve the accuracy in predicting stock market."
   ]
  },
  {
   "cell_type": "markdown",
   "metadata": {},
   "source": [
    "### Project Framework"
   ]
  },
  {
   "cell_type": "markdown",
   "metadata": {},
   "source": [
    "The project will be seperated into different parts and it will be listed in the below:\n",
    "- Feature Construction\n",
    "- Data Pre-processing\n",
    "- Strategy for cross validation\n",
    "- Building of Machine Learning and Ensemble methods\n",
    "- Comparing the accuracy and error metrics of models"
   ]
  },
  {
   "cell_type": "markdown",
   "metadata": {},
   "source": [
    "### Feature Construction"
   ]
  },
  {
   "cell_type": "markdown",
   "metadata": {},
   "source": [
    "In analysing the stock market, the two common methods that have been used are namely: fundamental analysis and technical analysis. Fundamental analyst use financial statements and industry trends to see if an asset is under or overvalued. However, for technical analysis, it uses historic market price to forecast the direction of market price, primarily price and volume. "
   ]
  },
  {
   "cell_type": "markdown",
   "metadata": {},
   "source": [
    "For this project, we will adopt the strategy of using 9 different technical indicators from technical analysis to construct our feature input to Machine Learning models and Ensemble method."
   ]
  },
  {
   "cell_type": "markdown",
   "metadata": {},
   "source": [
    "### Fetch Dataset"
   ]
  },
  {
   "cell_type": "markdown",
   "metadata": {},
   "source": [
    "The Yahoo finance API provides financial information such as financial news, price data and financial reports of a stock. In this project, we will retrieve the opening price, closing price and volume for a certain period."
   ]
  },
  {
   "cell_type": "markdown",
   "metadata": {},
   "source": [
    "Instead of making individual stock prediction, we will use Nifty 50 and S&P 500 for stock index prediction as these stock index consists a list of top companies in the market. Besides that, using stock index from different continents will also helps us in building a more roboust model"
   ]
  },
  {
   "cell_type": "code",
   "execution_count": 7,
   "metadata": {},
   "outputs": [],
   "source": [
    "start_date = \"2000-01-01\"\n",
    "end_date = \"2021-01-31\""
   ]
  },
  {
   "cell_type": "code",
   "execution_count": 8,
   "metadata": {},
   "outputs": [
    {
     "name": "stdout",
     "output_type": "stream",
     "text": [
      "[*********************100%***********************]  1 of 1 completed\n",
      "[*********************100%***********************]  1 of 1 completed\n"
     ]
    }
   ],
   "source": [
    "sp500 = yf.download(\"SPY\",start= start_date,end=end_date)\n",
    "nifty50 = yf.download(\"^NSEI\",start= start_date,end=end_date)"
   ]
  },
  {
   "cell_type": "markdown",
   "metadata": {},
   "source": [
    "### Simple Moving Average (SMA) - 10 days"
   ]
  },
  {
   "cell_type": "markdown",
   "metadata": {},
   "source": [
    "- Simple moving average is a technical analysis tools that smooths out price data by creating a constantly updated average price\n",
    "- However, simple moving averages don't make prediction about the future value of a stock, it simply reveal the trend of the stock over a period of time\n",
    "\n",
    "Formula for Simple Moving Averages:<br><br>\n",
    "$SMA = \\frac {C _{1} + C _{2} + ... + C _{n}}{n}$<br><br>\n",
    "where:<br> \n",
    "$C$ = The closing price of a stock<br>\n",
    "$n$ = the number of total periods\n",
    "\n"
   ]
  },
  {
   "cell_type": "code",
   "execution_count": 5,
   "metadata": {},
   "outputs": [],
   "source": [
    "def SMA(data):\n",
    "    return data['Close'].rolling(window=10).mean()"
   ]
  },
  {
   "cell_type": "markdown",
   "metadata": {},
   "source": [
    "### Weighted Moving Average (WMA) - 10 days"
   ]
  },
  {
   "cell_type": "markdown",
   "metadata": {},
   "source": [
    "- Weighted moving average is very similar to SMA as it also smooths out the price data but WMA gives more weight to the recent price and gradually less as we look back in time\n",
    "- For example the closing price of stock Z for the past 3 days are 20, 30 and 50 usd. Since it is a three-day period, the most recent day(50 usd) will multiply with the largest weight(3) and the second day(30 usd) will multiply with the second largest weight(2) and so on\n",
    "- The sum of the value after multiplying with the weight will be divide by the sum of the periods which is 1+2+3 = 6\n",
    "\n",
    "Formula for Weighted Moving Average:<br><br>\n",
    "$WMA = \\frac {C_{1}W_{1} + C_{2}W_{2} + ... + C_{n}W_{n}}{W_{n} + W_{n-1} + ... + 1}$<br><br>\n",
    "where:<br>\n",
    "$C$ = The closing price of a stock<br>\n",
    "$W$ = The weighting factor<br>\n",
    "$n$ = Number of periods in the weighting group"
   ]
  },
  {
   "cell_type": "code",
   "execution_count": 9,
   "metadata": {},
   "outputs": [],
   "source": [
    "def WMA(data):\n",
    "    weights = np.arange(1,11)\n",
    "    return data['Close'].rolling(10).apply(lambda price: np.dot(prices,weights)/weights.sum(),raw=True)"
   ]
  },
  {
   "cell_type": "markdown",
   "metadata": {},
   "source": [
    "### Relative Strength Index (RSI)\n",
    "\n",
    "- RSI measures the extent of recent price changes to determine overbought or oversold conditions in an instruments price.\n",
    "- It is one of the most trusted indicators for anyone planning to use oscillators to determine buy and sell points"
   ]
  },
  {
   "cell_type": "markdown",
   "metadata": {},
   "source": [
    "The formula for RSI:<br><br>\n",
    "$RS = \\frac{Avg.Gain}{Avg.Loss}$ <br><br>\n",
    "$RSI = 100 - \\frac {100} {1+RS}$\n",
    "\n"
   ]
  },
  {
   "cell_type": "code",
   "execution_count": 10,
   "metadata": {},
   "outputs": [],
   "source": [
    "def RSI(data,period):\n",
    "    df = pd.DataFrame()\n",
    "    df['Diff'] = data['Close'].transform(lambda x: x.diff())\n",
    "\n",
    "    df['Up'] = df['Diff']\n",
    "    df.loc[(df['Up']<0),'Up'] = 0\n",
    "\n",
    "    df['Down'] = df['Diff']\n",
    "    df.loc[(df['Down']>0),'Down'] = 0\n",
    "    df['Down'] = abs(df['Down'])\n",
    "\n",
    "    df['rsi_up'] = df['Up'].rolling(window=period).mean()\n",
    "    df['rsi_down'] = df['Down'].rolling(window=period).mean()\n",
    "    \n",
    "    df['rs'] = df['rsi_up'] / df['rsi_down']\n",
    "    df['rsi'] = round(100 - (100/(1+df['rs'])))\n",
    "    return df['rsi']\n",
    "    "
   ]
  },
  {
   "cell_type": "markdown",
   "metadata": {},
   "source": [
    "### Momentum "
   ]
  },
  {
   "cell_type": "markdown",
   "metadata": {},
   "source": [
    "- Momentum is a simple technical indicator used in the financial field\n",
    "- It simply calculate the rate of change of the closing price in a certain period\n",
    "- For example, a ten-days momentum can be calculated by subtracting the closing price in the most recent day and 10th day<br><br>\n",
    "\n",
    "The formula for Momentum:\n",
    "\n",
    "$mom = C_{t} - C_{t-9}$<br>\n",
    "where:<br>\n",
    "$C$ = The closing price<br>\n",
    "$t$ = The number of period"
   ]
  },
  {
   "cell_type": "code",
   "execution_count": 11,
   "metadata": {},
   "outputs": [],
   "source": [
    "def mom(data):\n",
    "    close_9 = data['Close'].shift(9)\n",
    "    momentum = data['Close'] - close_9\n",
    "    return momentum"
   ]
  },
  {
   "cell_type": "markdown",
   "metadata": {},
   "source": [
    "### Williams %R\n",
    "\n",
    "- William %R is a momentum indicator developed by Larry Williams that moves between 0 and -100\n",
    "- It is used to measure overbought and oversold levels to allow traders to find entry and exit point in the stock market<br><br>\n",
    "\n",
    "The formula for William %R:\n",
    "\n",
    "$WilliamsR = \\frac {H_{n} - C_{t}}{H_{n} - L_{n}} * -100$<br><br>\n",
    "where:<br>\n",
    "$H_{n}$ = The high price at period n<br>\n",
    "$L_{n}$ = The low price at period n<br>\n",
    "$C_{t}$ = The high price at time t\n"
   ]
  },
  {
   "cell_type": "code",
   "execution_count": 17,
   "metadata": {},
   "outputs": [],
   "source": [
    "def williamR(data):\n",
    "    high = data['High'].rolling(window=14).max()\n",
    "    low = data['Low'].rolling(window=14).min()\n",
    "    wr = -100 * ((high-data['Close']) / (high-low))\n",
    "    return wr\n",
    "    "
   ]
  },
  {
   "cell_type": "markdown",
   "metadata": {},
   "source": [
    "### Commodity Channel Index (CCI)\n",
    "- CCI is a momentum-based oscillator that developed by Donald Lambert\n",
    "- It is used to examine the price trend direction and strength to allow traders to decide the entry and exit point in the stock market\n",
    "- CCI was originally developed to spot long-term trend changes, however traders have been use it on all different timeframes.<br><br>\n",
    "\n",
    "The formula for CCI:<br>\n",
    "$CCI = \\frac {TP - MA} {0.015 * MD}$<br><br>\n",
    "where:<br>\n",
    "TP = Typical Price<br>\n",
    "Typical Price = $\\sum \\limits _{i=1} ^{P} ((High + Low + Close) \\div 3)$<br>\n",
    "MA = Moving Average<br>\n",
    "Moving Average = $(\\sum \\limits _{i=1} ^{P} Typical Price) \\div P $<br>\n",
    "Mean Deviation = $ (\\sum \\limits _{i=1} ^{P} |Typical Price - MA|) \\div P $<br>\n",
    "P = Number of periods\n"
   ]
  },
  {
   "cell_type": "code",
   "execution_count": 19,
   "metadata": {},
   "outputs": [],
   "source": [
    "def CCI(data):\n",
    "    data['tp'] = (data['High'] + data['Low'] + data['Close']) / 3\n",
    "    data['sma_tp'] = data['tp'].rolling(window=12).mean()\n",
    "    data['mad'] = data['tp'].rolling(window=12).apply(lambda x: pd.Series(x).mad())\n",
    "    data['CCI'] = (data['tp'] - data['sma_tp']) / (0.015 * data['mad'])\n",
    "    return data['CCI']"
   ]
  },
  {
   "cell_type": "markdown",
   "metadata": {},
   "source": [
    "### Moving Average Convergence Divergence (MACD)"
   ]
  },
  {
   "cell_type": "markdown",
   "metadata": {},
   "source": [
    "- Moving average convergence divergence is also another famous trend-based momentum indicator that shows the relationship between two different period of moving averages of a security's price\n",
    "- It is calculated by subtracting the 26-period exponential moving average from the 12-period exponential moving average\n",
    "- It is often used to determine whether the market is in bullish or bearish\n",
    "\n",
    "\n"
   ]
  },
  {
   "cell_type": "markdown",
   "metadata": {},
   "source": [
    "The formula for MACD:<br><br>\n",
    "$MACD = EMA _{12period} - EMA _{26period}$"
   ]
  },
  {
   "cell_type": "code",
   "execution_count": 21,
   "metadata": {},
   "outputs": [],
   "source": [
    "def MACD(data,period1,period2,period3):\n",
    "    macd_1 = data['Close'].ewm(span=period1,adjust=False,min_periods=period1).mean()\n",
    "    macd_2 = data['Close'].ewm(span=period2,adjust=False,min_periods=period2).mean()\n",
    "    macd = macd_1 - macd_2\n",
    "    signal = macd.ewm(span=period3,adjust=False,min_periods=period3).mean()\n",
    "    \n",
    "    return macd,signal"
   ]
  },
  {
   "cell_type": "markdown",
   "metadata": {},
   "source": [
    "### Stochastic Oscillator"
   ]
  },
  {
   "cell_type": "markdown",
   "metadata": {},
   "source": [
    " - Stochastic Oscillator measures the momentum of price movement \n",
    " - Stochastic Oscillator is range-bound, which means it is always between 0 and 100 and this can be used to identify overbought and oversold levels\n",
    " - There are two different stochastic oscillator, namely %K and %D where %D is the 3-day simple moving average of %K"
   ]
  },
  {
   "cell_type": "markdown",
   "metadata": {},
   "source": [
    "### Stochastic %K\n",
    "The formula for Stochastic K:<br><br>\n",
    "\n",
    "$ K = \\frac {(C - L _{period})} {(H _{period} - L _{period})} * 100$ <br><br>\n",
    "\n",
    "where: <br>\n",
    "$ C $ = The most recent closing price  <br>\n",
    "$ L _{period} $ = The lowest price traded of the trading period  <br>\n",
    "$ L _{period} $ = The highest price traded of the trading period  <br>"
   ]
  },
  {
   "cell_type": "code",
   "execution_count": 24,
   "metadata": {},
   "outputs": [],
   "source": [
    "def stochastic_k(data,period):\n",
    "    df = pd.DataFrame()\n",
    "    df['high'] = data['High'].rolling(period).max()\n",
    "    df['low'] = data['Low'].rolling(period).min()\n",
    "    df['percentage_k'] = (data['Close'] - df['low']) * 100 / (df['high'] - df['low'])\n",
    "    \n",
    "    return df['percentage_k']"
   ]
  },
  {
   "cell_type": "markdown",
   "metadata": {},
   "source": [
    "### Stochastic %D\n",
    "The formula for Stochastic D:<br><br>\n",
    "\n",
    "$ D = \\frac {K _{1} + K _{2} .... + K _{n}} {n}$\n",
    "<br><br>\n",
    "where:<br>\n",
    "$ K $ = Fast Stochastic indicator <br>\n",
    "$ n $ = Trading period"
   ]
  },
  {
   "cell_type": "code",
   "execution_count": 23,
   "metadata": {},
   "outputs": [],
   "source": [
    "def stochastic_d(data,period1,period2):\n",
    "    df = pd.DataFrame()\n",
    "    df['high'] = data['High'].rolling(period1).max()\n",
    "    df['low'] = data['Low'].rolling(period1).min()\n",
    "    df['percen_k'] = (data['Close'] - df['low']) * 100 / (df['high'] - df['low'])\n",
    "    df['percen_d'] = df['percen_k'].rolling(window=period2).mean()\n",
    "    \n",
    "    return df['percen_d']"
   ]
  },
  {
   "cell_type": "markdown",
   "metadata": {},
   "source": [
    "### Data Pre-processing"
   ]
  },
  {
   "cell_type": "markdown",
   "metadata": {},
   "source": [
    "A research done by Pajan shows that an another approach of using technical indicators does improve the model. This approach is to transform the continous value obtained from technical indicators into discrete form. In general, every technical indicators have its own way of interpreting the market. For example, in RSI, traders often sells their stock when RSI value exceeds 70 or above and buys when RSI value goes 30 or below. In this part, we will first transform each technical indicators that we constructed into discrete form. "
   ]
  },
  {
   "cell_type": "markdown",
   "metadata": {},
   "source": [
    "### Simple Moving Average 10-days (SMA)"
   ]
  },
  {
   "cell_type": "markdown",
   "metadata": {},
   "source": [
    "SMA and EMA are both used to smooth out the price data by constantly update the average price. In here, if SMA and EMA are higher than the current price, then the trend is 'down' and denote as '-1'. If SMA and EMA are lower than the current price, then the trend is 'up' and denote as '+1'"
   ]
  },
  {
   "cell_type": "code",
   "execution_count": 25,
   "metadata": {},
   "outputs": [],
   "source": [
    "#Discrete \n",
    "def SMA_discrete(data,period,column='Close'):\n",
    "    data['sma'] = data[column].rolling(window=period).mean()\n",
    "    data['sma_discrete'] = np.where(data['sma'] > data['Close'],-1,1)\n",
    "    return data['sma_discrete']"
   ]
  },
  {
   "cell_type": "markdown",
   "metadata": {},
   "source": [
    "### Weighted Moving Average 10-days (WMA)"
   ]
  },
  {
   "cell_type": "code",
   "execution_count": 27,
   "metadata": {},
   "outputs": [],
   "source": [
    "def WMA_discrete(data,period,column=\"Close\"):\n",
    "    weights = np.arange(1,11)\n",
    "    data['wma'] = data['Close'].rolling(10).apply(lambda price: np.dot(prices,weights)/weights.sum(),raw=True)\n",
    "    data['wma_discrete'] = np.where(data['wma'] > data['Close'],-1,1)\n",
    "    return data['wma_discrete']"
   ]
  },
  {
   "cell_type": "markdown",
   "metadata": {},
   "source": [
    "### Relative Strength Index (RSI)"
   ]
  },
  {
   "cell_type": "markdown",
   "metadata": {},
   "source": [
    "For RSI, if the value of RSI is higher than 70, it means the stock is overbought and we will denote it as '-1' and if the value of RSI is lower than 30, it means the stock is oversold and we will denote it as '+1'. For the case that the value of RSI is between 30 and 70, if the value of RSI at time 't' is higher than 't-1', we will denote it as '+1' and vice-a-versa"
   ]
  },
  {
   "cell_type": "code",
   "execution_count": 28,
   "metadata": {},
   "outputs": [],
   "source": [
    "def cond_rsi(data):\n",
    "    if (data.rsi < 70) & (data.rsi > 30):\n",
    "        if (data.rsi > data.previous):\n",
    "            return 1\n",
    "        else :\n",
    "            return -1\n",
    "    elif (data.rsi > 70):\n",
    "        return -1\n",
    "    else :\n",
    "        return 1 \n",
    "\n",
    "\n",
    "\n",
    "\n",
    "def rsi_discrete(data,period):\n",
    "    df = pd.DataFrame()\n",
    "    df['Diff'] = data['Close'].transform(lambda x: x.diff())\n",
    "\n",
    "    df['Up'] = df['Diff']\n",
    "    df.loc[(df['Up']<0),'Up'] = 0\n",
    "\n",
    "    df['Down'] = df['Diff']\n",
    "    df.loc[(df['Down']>0),'Down'] = 0\n",
    "    df['Down'] = abs(df['Down'])\n",
    "\n",
    "    df['rsi_up'] = df['Up'].rolling(window=period).mean()\n",
    "    df['rsi_down'] = df['Down'].rolling(window=period).mean()\n",
    "    \n",
    "    df['rs'] = df['rsi_up'] / df['rsi_down']\n",
    "    df['rsi'] = round(100 - (100/(1+df['rs'])))\n",
    "    df['previous'] = df['rsi'].shift(1)\n",
    "    \n",
    "    df['discrete_rsi'] = df.apply(cond_rsi,axis=1)\n",
    "    return df['discrete_rsi']"
   ]
  },
  {
   "cell_type": "markdown",
   "metadata": {},
   "source": [
    "### Momentum"
   ]
  },
  {
   "cell_type": "markdown",
   "metadata": {},
   "source": [
    "Since momentum calculates the rate of change of stock prices. A positive value of momentum indicates 'up' trend and we will denote as '+1' and a negative value of momentum indicates 'down' trend and will be denote as '-1'"
   ]
  },
  {
   "cell_type": "code",
   "execution_count": 29,
   "metadata": {},
   "outputs": [],
   "source": [
    "def mom_discrete(data):\n",
    "    data['close_9'] = data['Close'].shift(9)\n",
    "    data['momentum'] = data['Close'] - data['close_9']\n",
    "    data['discrete_momentum'] = np.where(data['momentum'] > 0 , 1, 0)\n",
    "    return data['discrete_momentum']\n",
    "    "
   ]
  },
  {
   "cell_type": "markdown",
   "metadata": {},
   "source": [
    "### Commodity Channel Index (CCI)"
   ]
  },
  {
   "cell_type": "markdown",
   "metadata": {},
   "source": [
    "In this part, we set 200 as overbought level and -200 as oversold level. Hence, if the value of CCI is higher than 200, we will denote as '-1' and vice-a-versa. For the case when the value of CCI is between -200 and 200, if the value of CCI at time 't' is higher than time 't-1', the trend is 'up' and we denote as '+1'."
   ]
  },
  {
   "cell_type": "code",
   "execution_count": 31,
   "metadata": {},
   "outputs": [],
   "source": [
    "def cond_CCI(row):\n",
    "    if (row.CCI <= 200) & (row.CCI >= -200):\n",
    "        if (row.CCI > row.dif):\n",
    "            return 1\n",
    "        else:\n",
    "            return -1\n",
    "    elif (row.CCI > 200):\n",
    "        return -1\n",
    "    else:\n",
    "        return 1\n",
    "\n",
    "\n",
    "def CCI_discrete(data):\n",
    "    df = pd.DataFrame()\n",
    "    df['tp'] = (data['High'] + data['Low'] + data['Close']) / 3\n",
    "    df['sma_tp'] = df['tp'].rolling(window=9).mean()\n",
    "    df['mad'] = df['tp'].rolling(window=9).apply(lambda x: pd.Series(x).mad())\n",
    "    df['CCI'] = (df['tp'] - df['sma_tp']) / (0.015 * df['mad'])\n",
    "    df['dif'] = df['CCI'].shift(1)\n",
    "    df['CCI_discrete'] = df.apply(cond_CCI,axis=1)\n",
    "    \n",
    "    \n",
    "    return df['CCI_discrete']"
   ]
  },
  {
   "cell_type": "markdown",
   "metadata": {},
   "source": [
    "### Moving Average Convergence Divergence (MACD)"
   ]
  },
  {
   "cell_type": "markdown",
   "metadata": {},
   "source": [
    "MACD follows the trend of the stock price, which means that if the value of MACD goes up then the stock price is also rising. Hence, the interpretation of MACD in this project will be looking at if the value of MACD at time 't' is greater than the value at time 't-1', then the trend is 'up' and we will denote as '+1' and vice-a-versa"
   ]
  },
  {
   "cell_type": "code",
   "execution_count": 32,
   "metadata": {},
   "outputs": [],
   "source": [
    "def cond_MACD(data):\n",
    "    if (data.macd > data.dif):\n",
    "        return 1\n",
    "    else:\n",
    "        return -1\n",
    "    \n",
    "\n",
    "def MACD_discrete(data):\n",
    "    df = pd.DataFrame()\n",
    "    df['macd_1'] = data['Close'].ewm(span=26,adjust=False,min_periods=26).mean()\n",
    "    df['macd_2'] = data['Close'].ewm(span=9,adjust=False,min_periods=9).mean()\n",
    "    df['macd'] = df['macd_1'] - df['macd_2']\n",
    "    df['dif'] = df['macd'].shift(1)\n",
    "    df['discrete_macd'] = df.apply(cond_MACD,axis=1)\n",
    "    \n",
    "    \n",
    "    return df['discrete_macd']"
   ]
  },
  {
   "cell_type": "markdown",
   "metadata": {},
   "source": [
    "Stochastic %K, %D and William %R are all stochastic oscillator, as all normalizes price as a percentage between 0 and 100. Hence, we will be using the same interpretation for all these three technical indicators. When the indicators at time 't' is higher than the value at time 't-1' then the trend is 'up' and we denote as '+1' and vice-a-versa"
   ]
  },
  {
   "cell_type": "markdown",
   "metadata": {},
   "source": [
    "### Stochastic Oscillator"
   ]
  },
  {
   "cell_type": "code",
   "execution_count": 33,
   "metadata": {},
   "outputs": [],
   "source": [
    "#Stochastic %K\n",
    "def cond_sto_k(data):\n",
    "    if (data.percen_k > data.previous):\n",
    "        return 1\n",
    "    else:\n",
    "        return -1\n",
    "\n",
    "def discrete_sto_k(data,period):\n",
    "    df = pd.DataFrame()\n",
    "    df['high'] = data['High'].rolling(period).max()\n",
    "    df['low'] = data['Low'].rolling(period).min()\n",
    "    df['percen_k'] = (data['Close'] - df['low']) * 100 / (df['high'] - df['low'])\n",
    "    df['previous'] = df['percen_k'].shift(1)\n",
    "    df['discrete_k'] = df.apply(cond_sto_k,axis=1) \n",
    "    \n",
    "    return df['discrete_k']"
   ]
  },
  {
   "cell_type": "code",
   "execution_count": 34,
   "metadata": {},
   "outputs": [],
   "source": [
    "#Stochastic %D\n",
    "def cond_sto_d(data):\n",
    "    if (data.percen_d > data.previous):\n",
    "        return 1\n",
    "    else:\n",
    "        return -1\n",
    "\n",
    "\n",
    "def discrete_sto_d(data,period1,period2):\n",
    "    df = pd.DataFrame()\n",
    "    df['high'] = data['High'].rolling(period1).max()\n",
    "    df['low'] = data['Low'].rolling(period1).min()\n",
    "    df['percen_k'] = (data['Close'] - df['low']) * 100 / (df['high'] - df['low'])\n",
    "    df['percen_d'] = df['percen_k'].rolling(window=period2).mean()\n",
    "    df['previous'] = df['percen_d'].shift(1)\n",
    "    df['discrete_d'] = df.apply(cond_sto_d,axis=1)\n",
    "    \n",
    "    return df['discrete_d']"
   ]
  },
  {
   "cell_type": "markdown",
   "metadata": {},
   "source": [
    "### Williams %R"
   ]
  },
  {
   "cell_type": "code",
   "execution_count": null,
   "metadata": {},
   "outputs": [],
   "source": [
    "def cond_wr(data):\n",
    "    if (data.wr > data.previous):\n",
    "        return 1\n",
    "    else:\n",
    "        return -1\n",
    "\n",
    "\n",
    "\n",
    "def discrete_wr(data,period):\n",
    "    df = pd.DataFrame()\n",
    "    df['high'] = data['High'].rolling(window=period).max()\n",
    "    df['low'] = data['Low'].rolling(window=period).min()\n",
    "    df['wr'] = -100 * ((df['high']-data['Close']) / (df['high'] - df['low']))\n",
    "    df['previous'] = df['wr'].shift(1)\n",
    "    df['discrete_wr'] = df.apply(cond_wr,axis=1)\n",
    "    \n",
    "    return df['discrete_wr']"
   ]
  }
 ],
 "metadata": {
  "kernelspec": {
   "display_name": "Python 3",
   "language": "python",
   "name": "python3"
  },
  "language_info": {
   "codemirror_mode": {
    "name": "ipython",
    "version": 3
   },
   "file_extension": ".py",
   "mimetype": "text/x-python",
   "name": "python",
   "nbconvert_exporter": "python",
   "pygments_lexer": "ipython3",
   "version": "3.8.5"
  }
 },
 "nbformat": 4,
 "nbformat_minor": 4
}
